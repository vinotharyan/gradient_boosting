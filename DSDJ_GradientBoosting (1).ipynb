{
 "cells": [
  {
   "cell_type": "markdown",
   "metadata": {},
   "source": [
    "# Gradient Boosting  Activity\n",
    "***\n",
    "\n",
    "## Table of Contents\n",
    "1. Airline Flights Dataset\n",
    "2. Clean Data & Examine Target Feature\n",
    "3. Split Train/Test Set\n",
    "4. Build a Boosting Ensemble from Scratch\n",
    "5. Examine Learning Curve & Explain Individual Hyperparameter Effects\n",
    "    - max_depth\n",
    "    - learning_rate\n",
    "    - min_child_weight\n",
    "    - n_estimators\n",
    "6. Examine & Perform GridSearchCV \n",
    "7. Plot Learning Curve\n",
    "8. Explain & Perform Early Stopping (How to Prevent Overfitting)\n",
    "9. Explain & Perform Feature Importance"
   ]
  },
  {
   "cell_type": "markdown",
   "metadata": {},
   "source": [
    "## 1. Airline Flights Dataset\n",
    "***\n",
    "\n",
    "**Goal**: To predict whether or not a given flight will be delayed "
   ]
  },
  {
   "cell_type": "code",
   "execution_count": 76,
   "metadata": {},
   "outputs": [],
   "source": [
    "import pandas as pd\n",
    "import time\n",
    "import numpy as np\n",
    "import seaborn as sns\n",
    "import matplotlib.pyplot as plt\n",
    "\n",
    "# Import Model Libraries\n",
    "import xgboost as xgb\n",
    "from sklearn import metrics\n",
    "from sklearn.model_selection import GridSearchCV\n",
    "from sklearn.metrics import accuracy_score\n",
    "from sklearn.model_selection import train_test_split\n",
    "\n",
    "import warnings\n",
    "warnings.filterwarnings('ignore')"
   ]
  },
  {
   "cell_type": "markdown",
   "metadata": {},
   "source": [
    "**Dataset**: https://www.kaggle.com/usdot/flight-delays/data"
   ]
  },
  {
   "cell_type": "code",
   "execution_count": 210,
   "metadata": {
    "scrolled": true
   },
   "outputs": [
    {
     "data": {
      "text/plain": [
       "(5819, 31)"
      ]
     },
     "execution_count": 210,
     "metadata": {},
     "output_type": "execute_result"
    }
   ],
   "source": [
    "# Dataset contains 5million observations\n",
    "df = pd.read_csv(\"C:/Users/Randy/Documents/CSVs/flights.csv\")\n",
    "\n",
    "# Get 1% of the data (5000)\n",
    "df = df.sample(frac = 0.001, random_state=10)\n",
    "\n",
    "# Get the size of our dataset\n",
    "df.shape"
   ]
  },
  {
   "cell_type": "markdown",
   "metadata": {},
   "source": [
    "## 2. Data Cleaning & Examine Target Feature\n",
    "***"
   ]
  },
  {
   "cell_type": "markdown",
   "metadata": {},
   "source": [
    "**a. Select our feature columns**"
   ]
  },
  {
   "cell_type": "code",
   "execution_count": 211,
   "metadata": {},
   "outputs": [],
   "source": [
    "# Get column names\n",
    "df = df[[\"MONTH\",\"DAY\",\"DAY_OF_WEEK\",\"AIRLINE\",\"FLIGHT_NUMBER\",\"DESTINATION_AIRPORT\",\n",
    "         \"ORIGIN_AIRPORT\",\"AIR_TIME\", \"DEPARTURE_TIME\",\"DISTANCE\",\"ARRIVAL_DELAY\"]]"
   ]
  },
  {
   "cell_type": "markdown",
   "metadata": {},
   "source": [
    "**b. Drop missing values**"
   ]
  },
  {
   "cell_type": "code",
   "execution_count": 212,
   "metadata": {},
   "outputs": [],
   "source": [
    "# Drop missing values\n",
    "df.dropna(inplace=True)"
   ]
  },
  {
   "cell_type": "markdown",
   "metadata": {},
   "source": [
    "**c. Encode our categorical features**"
   ]
  },
  {
   "cell_type": "code",
   "execution_count": 213,
   "metadata": {},
   "outputs": [],
   "source": [
    "# Get the categorical columns\n",
    "cat_cols = [\"AIRLINE\",\"FLIGHT_NUMBER\",\"DESTINATION_AIRPORT\",\"ORIGIN_AIRPORT\"]\n",
    "\n",
    "# Loop through categorical columns and Transform categorical features\n",
    "for cat in cat_cols:\n",
    "    df[cat] = df[cat].astype(\"category\").cat.codes + 1"
   ]
  },
  {
   "cell_type": "markdown",
   "metadata": {},
   "source": [
    "**d. Transform our target into a binary response**\n",
    "\n",
    "Flight delays over 20 minutes are considered late, otherwise it's on time"
   ]
  },
  {
   "cell_type": "code",
   "execution_count": 214,
   "metadata": {},
   "outputs": [],
   "source": [
    "# Create binary target (If delay > 20min then True, Else False)\n",
    "df[\"ARRIVAL_DELAY_LATE\"] = np.where(df.ARRIVAL_DELAY>=20, 1, 0)"
   ]
  },
  {
   "cell_type": "markdown",
   "metadata": {},
   "source": [
    "**Examine Class Labels**"
   ]
  },
  {
   "cell_type": "code",
   "execution_count": 215,
   "metadata": {
    "scrolled": true
   },
   "outputs": [
    {
     "data": {
      "text/plain": [
       "0    4821\n",
       "1     884\n",
       "Name: ARRIVAL_DELAY_LATE, dtype: int64"
      ]
     },
     "execution_count": 215,
     "metadata": {},
     "output_type": "execute_result"
    }
   ],
   "source": [
    "# Class imbalance problem\n",
    "df.ARRIVAL_DELAY_LATE.value_counts(0)"
   ]
  },
  {
   "cell_type": "markdown",
   "metadata": {},
   "source": [
    "## 3. Train/Test Split\n",
    "***"
   ]
  },
  {
   "cell_type": "code",
   "execution_count": 216,
   "metadata": {},
   "outputs": [],
   "source": [
    "# Split Train/Test Set\n",
    "X_train, X_test, y_train, y_test = train_test_split(df.drop([\"ARRIVAL_DELAY\",\"ARRIVAL_DELAY_LATE\"], axis=1), df[\"ARRIVAL_DELAY\"],random_state=10, test_size=0.25)"
   ]
  },
  {
   "cell_type": "code",
   "execution_count": 85,
   "metadata": {
    "scrolled": true
   },
   "outputs": [
    {
     "data": {
      "text/html": [
       "<div>\n",
       "<style scoped>\n",
       "    .dataframe tbody tr th:only-of-type {\n",
       "        vertical-align: middle;\n",
       "    }\n",
       "\n",
       "    .dataframe tbody tr th {\n",
       "        vertical-align: top;\n",
       "    }\n",
       "\n",
       "    .dataframe thead th {\n",
       "        text-align: right;\n",
       "    }\n",
       "</style>\n",
       "<table border=\"1\" class=\"dataframe\">\n",
       "  <thead>\n",
       "    <tr style=\"text-align: right;\">\n",
       "      <th></th>\n",
       "      <th>MONTH</th>\n",
       "      <th>DAY</th>\n",
       "      <th>DAY_OF_WEEK</th>\n",
       "      <th>AIRLINE</th>\n",
       "      <th>FLIGHT_NUMBER</th>\n",
       "      <th>DESTINATION_AIRPORT</th>\n",
       "      <th>ORIGIN_AIRPORT</th>\n",
       "      <th>AIR_TIME</th>\n",
       "      <th>DEPARTURE_TIME</th>\n",
       "      <th>DISTANCE</th>\n",
       "    </tr>\n",
       "  </thead>\n",
       "  <tbody>\n",
       "    <tr>\n",
       "      <th>5340985</th>\n",
       "      <td>12</td>\n",
       "      <td>1</td>\n",
       "      <td>2</td>\n",
       "      <td>5</td>\n",
       "      <td>2973</td>\n",
       "      <td>195</td>\n",
       "      <td>279</td>\n",
       "      <td>80.0</td>\n",
       "      <td>622.0</td>\n",
       "      <td>610</td>\n",
       "    </tr>\n",
       "    <tr>\n",
       "      <th>4352177</th>\n",
       "      <td>9</td>\n",
       "      <td>28</td>\n",
       "      <td>1</td>\n",
       "      <td>11</td>\n",
       "      <td>1483</td>\n",
       "      <td>298</td>\n",
       "      <td>197</td>\n",
       "      <td>88.0</td>\n",
       "      <td>2012.0</td>\n",
       "      <td>680</td>\n",
       "    </tr>\n",
       "    <tr>\n",
       "      <th>263128</th>\n",
       "      <td>1</td>\n",
       "      <td>18</td>\n",
       "      <td>7</td>\n",
       "      <td>1</td>\n",
       "      <td>1263</td>\n",
       "      <td>250</td>\n",
       "      <td>284</td>\n",
       "      <td>137.0</td>\n",
       "      <td>1011.0</td>\n",
       "      <td>1089</td>\n",
       "    </tr>\n",
       "    <tr>\n",
       "      <th>884596</th>\n",
       "      <td>2</td>\n",
       "      <td>27</td>\n",
       "      <td>5</td>\n",
       "      <td>4</td>\n",
       "      <td>784</td>\n",
       "      <td>195</td>\n",
       "      <td>293</td>\n",
       "      <td>72.0</td>\n",
       "      <td>1948.0</td>\n",
       "      <td>528</td>\n",
       "    </tr>\n",
       "    <tr>\n",
       "      <th>874468</th>\n",
       "      <td>2</td>\n",
       "      <td>27</td>\n",
       "      <td>5</td>\n",
       "      <td>12</td>\n",
       "      <td>1555</td>\n",
       "      <td>175</td>\n",
       "      <td>284</td>\n",
       "      <td>91.0</td>\n",
       "      <td>958.0</td>\n",
       "      <td>650</td>\n",
       "    </tr>\n",
       "  </tbody>\n",
       "</table>\n",
       "</div>"
      ],
      "text/plain": [
       "         MONTH  DAY  DAY_OF_WEEK  AIRLINE  FLIGHT_NUMBER  DESTINATION_AIRPORT  \\\n",
       "5340985     12    1            2        5           2973                  195   \n",
       "4352177      9   28            1       11           1483                  298   \n",
       "263128       1   18            7        1           1263                  250   \n",
       "884596       2   27            5        4            784                  195   \n",
       "874468       2   27            5       12           1555                  175   \n",
       "\n",
       "         ORIGIN_AIRPORT  AIR_TIME  DEPARTURE_TIME  DISTANCE  \n",
       "5340985             279      80.0           622.0       610  \n",
       "4352177             197      88.0          2012.0       680  \n",
       "263128              284     137.0          1011.0      1089  \n",
       "884596              293      72.0          1948.0       528  \n",
       "874468              284      91.0           958.0       650  "
      ]
     },
     "execution_count": 85,
     "metadata": {},
     "output_type": "execute_result"
    }
   ],
   "source": [
    "# Examine our dataset\n",
    "X_train.head()"
   ]
  },
  {
   "cell_type": "markdown",
   "metadata": {},
   "source": [
    "**Check for any missing values**"
   ]
  },
  {
   "cell_type": "code",
   "execution_count": 8,
   "metadata": {
    "scrolled": true
   },
   "outputs": [
    {
     "data": {
      "text/plain": [
       "MONTH                  False\n",
       "DAY                    False\n",
       "DAY_OF_WEEK            False\n",
       "AIRLINE                False\n",
       "FLIGHT_NUMBER          False\n",
       "DESTINATION_AIRPORT    False\n",
       "ORIGIN_AIRPORT         False\n",
       "AIR_TIME               False\n",
       "DEPARTURE_TIME         False\n",
       "DISTANCE               False\n",
       "dtype: bool"
      ]
     },
     "execution_count": 8,
     "metadata": {},
     "output_type": "execute_result"
    }
   ],
   "source": [
    "# Check for any missing values\n",
    "X_train.isnull().any()"
   ]
  },
  {
   "cell_type": "markdown",
   "metadata": {},
   "source": [
    "## 4. Tree Ensemble (Boosting) from Scratch\n",
    "***\n",
    "\n",
    "Let's build our own boosting ensemble! You'll see two ways on how to do it:\n",
    "1. Ensembling from scratch\n",
    "2. Using Sklearn "
   ]
  },
  {
   "cell_type": "markdown",
   "metadata": {},
   "source": [
    "**Import Boston Dataset for Regression**"
   ]
  },
  {
   "cell_type": "code",
   "execution_count": 171,
   "metadata": {},
   "outputs": [],
   "source": [
    "from sklearn.datasets import load_boston\n",
    "bos = load_boston()"
   ]
  },
  {
   "cell_type": "code",
   "execution_count": 172,
   "metadata": {
    "scrolled": true
   },
   "outputs": [
    {
     "data": {
      "text/html": [
       "<div>\n",
       "<style scoped>\n",
       "    .dataframe tbody tr th:only-of-type {\n",
       "        vertical-align: middle;\n",
       "    }\n",
       "\n",
       "    .dataframe tbody tr th {\n",
       "        vertical-align: top;\n",
       "    }\n",
       "\n",
       "    .dataframe thead th {\n",
       "        text-align: right;\n",
       "    }\n",
       "</style>\n",
       "<table border=\"1\" class=\"dataframe\">\n",
       "  <thead>\n",
       "    <tr style=\"text-align: right;\">\n",
       "      <th></th>\n",
       "      <th>CRIM</th>\n",
       "      <th>ZN</th>\n",
       "      <th>INDUS</th>\n",
       "      <th>CHAS</th>\n",
       "      <th>NOX</th>\n",
       "      <th>RM</th>\n",
       "      <th>AGE</th>\n",
       "      <th>DIS</th>\n",
       "      <th>RAD</th>\n",
       "      <th>TAX</th>\n",
       "      <th>PTRATIO</th>\n",
       "      <th>B</th>\n",
       "      <th>LSTAT</th>\n",
       "      <th>PRICE</th>\n",
       "    </tr>\n",
       "  </thead>\n",
       "  <tbody>\n",
       "    <tr>\n",
       "      <th>0</th>\n",
       "      <td>0.00632</td>\n",
       "      <td>18.0</td>\n",
       "      <td>2.31</td>\n",
       "      <td>0.0</td>\n",
       "      <td>0.538</td>\n",
       "      <td>6.575</td>\n",
       "      <td>65.2</td>\n",
       "      <td>4.0900</td>\n",
       "      <td>1.0</td>\n",
       "      <td>296.0</td>\n",
       "      <td>15.3</td>\n",
       "      <td>396.90</td>\n",
       "      <td>4.98</td>\n",
       "      <td>24.0</td>\n",
       "    </tr>\n",
       "    <tr>\n",
       "      <th>1</th>\n",
       "      <td>0.02731</td>\n",
       "      <td>0.0</td>\n",
       "      <td>7.07</td>\n",
       "      <td>0.0</td>\n",
       "      <td>0.469</td>\n",
       "      <td>6.421</td>\n",
       "      <td>78.9</td>\n",
       "      <td>4.9671</td>\n",
       "      <td>2.0</td>\n",
       "      <td>242.0</td>\n",
       "      <td>17.8</td>\n",
       "      <td>396.90</td>\n",
       "      <td>9.14</td>\n",
       "      <td>21.6</td>\n",
       "    </tr>\n",
       "    <tr>\n",
       "      <th>2</th>\n",
       "      <td>0.02729</td>\n",
       "      <td>0.0</td>\n",
       "      <td>7.07</td>\n",
       "      <td>0.0</td>\n",
       "      <td>0.469</td>\n",
       "      <td>7.185</td>\n",
       "      <td>61.1</td>\n",
       "      <td>4.9671</td>\n",
       "      <td>2.0</td>\n",
       "      <td>242.0</td>\n",
       "      <td>17.8</td>\n",
       "      <td>392.83</td>\n",
       "      <td>4.03</td>\n",
       "      <td>34.7</td>\n",
       "    </tr>\n",
       "    <tr>\n",
       "      <th>3</th>\n",
       "      <td>0.03237</td>\n",
       "      <td>0.0</td>\n",
       "      <td>2.18</td>\n",
       "      <td>0.0</td>\n",
       "      <td>0.458</td>\n",
       "      <td>6.998</td>\n",
       "      <td>45.8</td>\n",
       "      <td>6.0622</td>\n",
       "      <td>3.0</td>\n",
       "      <td>222.0</td>\n",
       "      <td>18.7</td>\n",
       "      <td>394.63</td>\n",
       "      <td>2.94</td>\n",
       "      <td>33.4</td>\n",
       "    </tr>\n",
       "    <tr>\n",
       "      <th>4</th>\n",
       "      <td>0.06905</td>\n",
       "      <td>0.0</td>\n",
       "      <td>2.18</td>\n",
       "      <td>0.0</td>\n",
       "      <td>0.458</td>\n",
       "      <td>7.147</td>\n",
       "      <td>54.2</td>\n",
       "      <td>6.0622</td>\n",
       "      <td>3.0</td>\n",
       "      <td>222.0</td>\n",
       "      <td>18.7</td>\n",
       "      <td>396.90</td>\n",
       "      <td>5.33</td>\n",
       "      <td>36.2</td>\n",
       "    </tr>\n",
       "  </tbody>\n",
       "</table>\n",
       "</div>"
      ],
      "text/plain": [
       "      CRIM    ZN  INDUS  CHAS    NOX     RM   AGE     DIS  RAD    TAX  \\\n",
       "0  0.00632  18.0   2.31   0.0  0.538  6.575  65.2  4.0900  1.0  296.0   \n",
       "1  0.02731   0.0   7.07   0.0  0.469  6.421  78.9  4.9671  2.0  242.0   \n",
       "2  0.02729   0.0   7.07   0.0  0.469  7.185  61.1  4.9671  2.0  242.0   \n",
       "3  0.03237   0.0   2.18   0.0  0.458  6.998  45.8  6.0622  3.0  222.0   \n",
       "4  0.06905   0.0   2.18   0.0  0.458  7.147  54.2  6.0622  3.0  222.0   \n",
       "\n",
       "   PTRATIO       B  LSTAT  PRICE  \n",
       "0     15.3  396.90   4.98   24.0  \n",
       "1     17.8  396.90   9.14   21.6  \n",
       "2     17.8  392.83   4.03   34.7  \n",
       "3     18.7  394.63   2.94   33.4  \n",
       "4     18.7  396.90   5.33   36.2  "
      ]
     },
     "execution_count": 172,
     "metadata": {},
     "output_type": "execute_result"
    }
   ],
   "source": [
    "bos = pd.DataFrame(boston.data)\n",
    "bos.columns = boston.feature_names\n",
    "bos['PRICE'] = boston.target\n",
    "bos.head()"
   ]
  },
  {
   "cell_type": "code",
   "execution_count": 193,
   "metadata": {},
   "outputs": [],
   "source": [
    "# Split Train/Test Set\n",
    "X_train_2, X_test_2, y_train_2, y_test_2 = train_test_split(bos.drop([\"PRICE\"], axis=1), bos[\"PRICE\"],random_state=10, test_size=0.25)"
   ]
  },
  {
   "cell_type": "markdown",
   "metadata": {},
   "source": [
    "**Train first tree**"
   ]
  },
  {
   "cell_type": "code",
   "execution_count": 194,
   "metadata": {},
   "outputs": [
    {
     "data": {
      "text/plain": [
       "DecisionTreeRegressor(criterion='mse', max_depth=2, max_features=None,\n",
       "           max_leaf_nodes=None, min_impurity_decrease=0.0,\n",
       "           min_impurity_split=None, min_samples_leaf=1,\n",
       "           min_samples_split=2, min_weight_fraction_leaf=0.0,\n",
       "           presort=False, random_state=None, splitter='best')"
      ]
     },
     "execution_count": 194,
     "metadata": {},
     "output_type": "execute_result"
    }
   ],
   "source": [
    "# Train a base decision tree regressor model on the data\n",
    "from sklearn.tree import DecisionTreeRegressor\n",
    "\n",
    "tree_reg1 = DecisionTreeRegressor(max_depth=2)\n",
    "tree_reg1.fit(X_train_2,y_train_2)"
   ]
  },
  {
   "cell_type": "markdown",
   "metadata": {},
   "source": [
    "**Train second tree**"
   ]
  },
  {
   "cell_type": "code",
   "execution_count": 195,
   "metadata": {},
   "outputs": [
    {
     "data": {
      "text/plain": [
       "DecisionTreeRegressor(criterion='mse', max_depth=2, max_features=None,\n",
       "           max_leaf_nodes=None, min_impurity_decrease=0.0,\n",
       "           min_impurity_split=None, min_samples_leaf=1,\n",
       "           min_samples_split=2, min_weight_fraction_leaf=0.0,\n",
       "           presort=False, random_state=None, splitter='best')"
      ]
     },
     "execution_count": 195,
     "metadata": {},
     "output_type": "execute_result"
    }
   ],
   "source": [
    "# Train a second regressor on the residual errors made by the first predictor\n",
    "y2 = y_train - tree_reg1.predict(X_train_2)\n",
    "tree_reg2 = DecisionTreeRegressor(max_depth=2)\n",
    "tree_reg2.fit(X_train_2,y2)"
   ]
  },
  {
   "cell_type": "markdown",
   "metadata": {},
   "source": [
    "**Train third tree**"
   ]
  },
  {
   "cell_type": "code",
   "execution_count": 196,
   "metadata": {},
   "outputs": [
    {
     "data": {
      "text/plain": [
       "DecisionTreeRegressor(criterion='mse', max_depth=2, max_features=None,\n",
       "           max_leaf_nodes=None, min_impurity_decrease=0.0,\n",
       "           min_impurity_split=None, min_samples_leaf=1,\n",
       "           min_samples_split=2, min_weight_fraction_leaf=0.0,\n",
       "           presort=False, random_state=None, splitter='best')"
      ]
     },
     "execution_count": 196,
     "metadata": {},
     "output_type": "execute_result"
    }
   ],
   "source": [
    "# Train a third regressor on the residual errors made by the second predictor\n",
    "y3 = y2 - tree_reg2.predict(X_train_2)\n",
    "tree_reg3 = DecisionTreeRegressor(max_depth=2)\n",
    "tree_reg3.fit(X_train_2,y3)"
   ]
  },
  {
   "cell_type": "markdown",
   "metadata": {},
   "source": [
    "**ENSEMBLE: Combine all three tree predictions into one**"
   ]
  },
  {
   "cell_type": "code",
   "execution_count": 197,
   "metadata": {},
   "outputs": [],
   "source": [
    "# Add up the predictions of each tree model, which is our ensemble of three trees\n",
    "y_pred = sum(tree.predict(X_train_2) for tree in (tree_reg1, tree_reg2, tree_reg3))"
   ]
  },
  {
   "cell_type": "markdown",
   "metadata": {},
   "source": [
    "**Examine First 10 ENSEMBLE Predictions**"
   ]
  },
  {
   "cell_type": "code",
   "execution_count": 198,
   "metadata": {
    "scrolled": true
   },
   "outputs": [
    {
     "data": {
      "text/plain": [
       "array([20.81586023, 20.81586023, 31.52121541, 31.52121541,  8.50223644,\n",
       "       31.52121541, 31.52121541, 14.0498654 , 27.54690294, 20.81586023])"
      ]
     },
     "execution_count": 198,
     "metadata": {},
     "output_type": "execute_result"
    }
   ],
   "source": [
    "y_pred[:10]"
   ]
  },
  {
   "cell_type": "markdown",
   "metadata": {},
   "source": [
    "**Examine the first 10 ACTUAL values**"
   ]
  },
  {
   "cell_type": "code",
   "execution_count": 199,
   "metadata": {
    "scrolled": false
   },
   "outputs": [
    {
     "data": {
      "text/plain": [
       "167    23.8\n",
       "318    23.1\n",
       "99     33.2\n",
       "307    28.2\n",
       "404     8.5\n",
       "274    32.4\n",
       "252    29.6\n",
       "441    17.1\n",
       "70     24.2\n",
       "302    26.4\n",
       "Name: PRICE, dtype: float64"
      ]
     },
     "execution_count": 199,
     "metadata": {},
     "output_type": "execute_result"
    }
   ],
   "source": [
    "y_train[:10]"
   ]
  },
  {
   "cell_type": "markdown",
   "metadata": {},
   "source": [
    "**Examine ALL model predictions**"
   ]
  },
  {
   "cell_type": "code",
   "execution_count": 200,
   "metadata": {},
   "outputs": [
    {
     "data": {
      "text/html": [
       "<div>\n",
       "<style scoped>\n",
       "    .dataframe tbody tr th:only-of-type {\n",
       "        vertical-align: middle;\n",
       "    }\n",
       "\n",
       "    .dataframe tbody tr th {\n",
       "        vertical-align: top;\n",
       "    }\n",
       "\n",
       "    .dataframe thead th {\n",
       "        text-align: right;\n",
       "    }\n",
       "</style>\n",
       "<table border=\"1\" class=\"dataframe\">\n",
       "  <thead>\n",
       "    <tr style=\"text-align: right;\">\n",
       "      <th></th>\n",
       "      <th>Model_1</th>\n",
       "      <th>Model_2</th>\n",
       "      <th>Model_3</th>\n",
       "      <th>Ensemble</th>\n",
       "      <th>Actual</th>\n",
       "    </tr>\n",
       "  </thead>\n",
       "  <tbody>\n",
       "    <tr>\n",
       "      <th>0</th>\n",
       "      <td>21.420472</td>\n",
       "      <td>-0.988859</td>\n",
       "      <td>0.384246</td>\n",
       "      <td>20.815860</td>\n",
       "      <td>23.8</td>\n",
       "    </tr>\n",
       "    <tr>\n",
       "      <th>1</th>\n",
       "      <td>21.420472</td>\n",
       "      <td>-0.988859</td>\n",
       "      <td>0.384246</td>\n",
       "      <td>20.815860</td>\n",
       "      <td>23.1</td>\n",
       "    </tr>\n",
       "    <tr>\n",
       "      <th>2</th>\n",
       "      <td>28.151515</td>\n",
       "      <td>2.985454</td>\n",
       "      <td>0.384246</td>\n",
       "      <td>31.521215</td>\n",
       "      <td>33.2</td>\n",
       "    </tr>\n",
       "    <tr>\n",
       "      <th>3</th>\n",
       "      <td>28.151515</td>\n",
       "      <td>2.985454</td>\n",
       "      <td>0.384246</td>\n",
       "      <td>31.521215</td>\n",
       "      <td>28.2</td>\n",
       "    </tr>\n",
       "    <tr>\n",
       "      <th>4</th>\n",
       "      <td>14.654478</td>\n",
       "      <td>-0.988859</td>\n",
       "      <td>-5.163383</td>\n",
       "      <td>8.502236</td>\n",
       "      <td>8.5</td>\n",
       "    </tr>\n",
       "    <tr>\n",
       "      <th>5</th>\n",
       "      <td>28.151515</td>\n",
       "      <td>2.985454</td>\n",
       "      <td>0.384246</td>\n",
       "      <td>31.521215</td>\n",
       "      <td>32.4</td>\n",
       "    </tr>\n",
       "    <tr>\n",
       "      <th>6</th>\n",
       "      <td>28.151515</td>\n",
       "      <td>2.985454</td>\n",
       "      <td>0.384246</td>\n",
       "      <td>31.521215</td>\n",
       "      <td>29.6</td>\n",
       "    </tr>\n",
       "    <tr>\n",
       "      <th>7</th>\n",
       "      <td>14.654478</td>\n",
       "      <td>-0.988859</td>\n",
       "      <td>0.384246</td>\n",
       "      <td>14.049865</td>\n",
       "      <td>17.1</td>\n",
       "    </tr>\n",
       "    <tr>\n",
       "      <th>8</th>\n",
       "      <td>28.151515</td>\n",
       "      <td>-0.988859</td>\n",
       "      <td>0.384246</td>\n",
       "      <td>27.546903</td>\n",
       "      <td>24.2</td>\n",
       "    </tr>\n",
       "    <tr>\n",
       "      <th>9</th>\n",
       "      <td>21.420472</td>\n",
       "      <td>-0.988859</td>\n",
       "      <td>0.384246</td>\n",
       "      <td>20.815860</td>\n",
       "      <td>26.4</td>\n",
       "    </tr>\n",
       "  </tbody>\n",
       "</table>\n",
       "</div>"
      ],
      "text/plain": [
       "     Model_1   Model_2   Model_3   Ensemble  Actual\n",
       "0  21.420472 -0.988859  0.384246  20.815860    23.8\n",
       "1  21.420472 -0.988859  0.384246  20.815860    23.1\n",
       "2  28.151515  2.985454  0.384246  31.521215    33.2\n",
       "3  28.151515  2.985454  0.384246  31.521215    28.2\n",
       "4  14.654478 -0.988859 -5.163383   8.502236     8.5\n",
       "5  28.151515  2.985454  0.384246  31.521215    32.4\n",
       "6  28.151515  2.985454  0.384246  31.521215    29.6\n",
       "7  14.654478 -0.988859  0.384246  14.049865    17.1\n",
       "8  28.151515 -0.988859  0.384246  27.546903    24.2\n",
       "9  21.420472 -0.988859  0.384246  20.815860    26.4"
      ]
     },
     "execution_count": 200,
     "metadata": {},
     "output_type": "execute_result"
    }
   ],
   "source": [
    "# Create dataframe of all predictions\n",
    "predictions = pd.DataFrame(tree_reg1.predict(X_train)[:10], columns=['Model_1'])\n",
    "predictions['Model_2'] = pd.DataFrame(tree_reg2.predict(X_train)[:10])\n",
    "predictions['Model_3'] = pd.DataFrame(tree_reg3.predict(X_train)[:10])\n",
    "predictions['Ensemble'] = pd.DataFrame(y_pred[:10])\n",
    "predictions['Actual'] = y_train.head(10).reset_index()['PRICE']\n",
    "\n",
    "# Display predictions\n",
    "predictions"
   ]
  },
  {
   "cell_type": "markdown",
   "metadata": {},
   "source": [
    "#### Using Sklearn Gradient Boosting Regressor"
   ]
  },
  {
   "cell_type": "code",
   "execution_count": 191,
   "metadata": {},
   "outputs": [
    {
     "data": {
      "text/plain": [
       "GradientBoostingRegressor(alpha=0.9, criterion='friedman_mse', init=None,\n",
       "             learning_rate=0.1, loss='ls', max_depth=2, max_features=None,\n",
       "             max_leaf_nodes=None, min_impurity_decrease=0.0,\n",
       "             min_impurity_split=None, min_samples_leaf=1,\n",
       "             min_samples_split=2, min_weight_fraction_leaf=0.0,\n",
       "             n_estimators=3, presort='auto', random_state=None,\n",
       "             subsample=1.0, verbose=0, warm_start=False)"
      ]
     },
     "execution_count": 191,
     "metadata": {},
     "output_type": "execute_result"
    }
   ],
   "source": [
    "# Use the Sklearn GradientBoostingRegressor ensemble method to perform the same thing as the previous code above\n",
    "from sklearn.ensemble import GradientBoostingRegressor\n",
    "\n",
    "gbrt = GradientBoostingRegressor(max_depth=2, n_estimators=3)\n",
    "gbrt.fit(X_train_2,y_train_2)"
   ]
  },
  {
   "cell_type": "markdown",
   "metadata": {},
   "source": [
    "## 5.  XGBoost Model \n",
    "***\n",
    "\n",
    "Let's look at the default model of XGBoost!"
   ]
  },
  {
   "cell_type": "markdown",
   "metadata": {},
   "source": [
    "**Examine default parameters for XGB Regresor**"
   ]
  },
  {
   "cell_type": "code",
   "execution_count": 235,
   "metadata": {
    "scrolled": true
   },
   "outputs": [
    {
     "data": {
      "text/plain": [
       "XGBRegressor(base_score=0.5, booster='gbtree', colsample_bylevel=1,\n",
       "       colsample_bytree=1, gamma=0, learning_rate=0.1, max_delta_step=0,\n",
       "       max_depth=3, min_child_weight=1, missing=None, n_estimators=100,\n",
       "       n_jobs=1, nthread=None, objective='reg:linear', random_state=0,\n",
       "       reg_alpha=0, reg_lambda=1, scale_pos_weight=1, seed=None,\n",
       "       silent=True, subsample=1)"
      ]
     },
     "execution_count": 235,
     "metadata": {},
     "output_type": "execute_result"
    }
   ],
   "source": [
    "# Examine the default parameters\n",
    "xgb.XGBRegressor()"
   ]
  },
  {
   "cell_type": "markdown",
   "metadata": {},
   "source": [
    "**Perform Default XGBoost Model**\n",
    "\n",
    "Reference: https://www.programcreek.com/python/example/99823/xgboost.cv"
   ]
  },
  {
   "cell_type": "markdown",
   "metadata": {},
   "source": [
    "**You can also use XGB custom built CV function**"
   ]
  },
  {
   "cell_type": "code",
   "execution_count": 236,
   "metadata": {
    "scrolled": true
   },
   "outputs": [
    {
     "data": {
      "text/html": [
       "<div>\n",
       "<style scoped>\n",
       "    .dataframe tbody tr th:only-of-type {\n",
       "        vertical-align: middle;\n",
       "    }\n",
       "\n",
       "    .dataframe tbody tr th {\n",
       "        vertical-align: top;\n",
       "    }\n",
       "\n",
       "    .dataframe thead th {\n",
       "        text-align: right;\n",
       "    }\n",
       "</style>\n",
       "<table border=\"1\" class=\"dataframe\">\n",
       "  <thead>\n",
       "    <tr style=\"text-align: right;\">\n",
       "      <th></th>\n",
       "      <th>train-error-mean</th>\n",
       "      <th>train-error-std</th>\n",
       "      <th>test-error-mean</th>\n",
       "      <th>test-error-std</th>\n",
       "    </tr>\n",
       "  </thead>\n",
       "  <tbody>\n",
       "    <tr>\n",
       "      <th>0</th>\n",
       "      <td>0.154570</td>\n",
       "      <td>0.002762</td>\n",
       "      <td>0.161761</td>\n",
       "      <td>0.009954</td>\n",
       "    </tr>\n",
       "    <tr>\n",
       "      <th>1</th>\n",
       "      <td>0.154394</td>\n",
       "      <td>0.002948</td>\n",
       "      <td>0.160357</td>\n",
       "      <td>0.010825</td>\n",
       "    </tr>\n",
       "    <tr>\n",
       "      <th>2</th>\n",
       "      <td>0.153810</td>\n",
       "      <td>0.003375</td>\n",
       "      <td>0.158254</td>\n",
       "      <td>0.010594</td>\n",
       "    </tr>\n",
       "    <tr>\n",
       "      <th>3</th>\n",
       "      <td>0.153635</td>\n",
       "      <td>0.003313</td>\n",
       "      <td>0.158021</td>\n",
       "      <td>0.010766</td>\n",
       "    </tr>\n",
       "    <tr>\n",
       "      <th>4</th>\n",
       "      <td>0.153635</td>\n",
       "      <td>0.003591</td>\n",
       "      <td>0.158488</td>\n",
       "      <td>0.010666</td>\n",
       "    </tr>\n",
       "    <tr>\n",
       "      <th>5</th>\n",
       "      <td>0.155037</td>\n",
       "      <td>0.002560</td>\n",
       "      <td>0.158722</td>\n",
       "      <td>0.011090</td>\n",
       "    </tr>\n",
       "    <tr>\n",
       "      <th>6</th>\n",
       "      <td>0.155154</td>\n",
       "      <td>0.002415</td>\n",
       "      <td>0.158021</td>\n",
       "      <td>0.011573</td>\n",
       "    </tr>\n",
       "    <tr>\n",
       "      <th>7</th>\n",
       "      <td>0.155096</td>\n",
       "      <td>0.002452</td>\n",
       "      <td>0.158021</td>\n",
       "      <td>0.011573</td>\n",
       "    </tr>\n",
       "    <tr>\n",
       "      <th>8</th>\n",
       "      <td>0.154628</td>\n",
       "      <td>0.002558</td>\n",
       "      <td>0.158020</td>\n",
       "      <td>0.011898</td>\n",
       "    </tr>\n",
       "    <tr>\n",
       "      <th>9</th>\n",
       "      <td>0.154278</td>\n",
       "      <td>0.003382</td>\n",
       "      <td>0.158488</td>\n",
       "      <td>0.011264</td>\n",
       "    </tr>\n",
       "  </tbody>\n",
       "</table>\n",
       "</div>"
      ],
      "text/plain": [
       "   train-error-mean  train-error-std  test-error-mean  test-error-std\n",
       "0          0.154570         0.002762         0.161761        0.009954\n",
       "1          0.154394         0.002948         0.160357        0.010825\n",
       "2          0.153810         0.003375         0.158254        0.010594\n",
       "3          0.153635         0.003313         0.158021        0.010766\n",
       "4          0.153635         0.003591         0.158488        0.010666\n",
       "5          0.155037         0.002560         0.158722        0.011090\n",
       "6          0.155154         0.002415         0.158021        0.011573\n",
       "7          0.155096         0.002452         0.158021        0.011573\n",
       "8          0.154628         0.002558         0.158020        0.011898\n",
       "9          0.154278         0.003382         0.158488        0.011264"
      ]
     },
     "execution_count": 236,
     "metadata": {},
     "output_type": "execute_result"
    }
   ],
   "source": [
    "# Use XGB Built in CV function\n",
    "# Default is 10 boosting rounds\n",
    "xgb.cv(param, dtrain, nfold=5)"
   ]
  },
  {
   "cell_type": "markdown",
   "metadata": {},
   "source": [
    "# 5. XGBoost Parameters\n",
    "***\n",
    "\n",
    "**Important Parameters for Overfitting:**\n",
    "- **learning_rate**:  Controls the contribution of each tree in the ensemble (optimal values between 0.01-0.2). ESL states that the best strategy might be to set learning_rate low (<0.1) and then choose n_estimators by early stopping.\n",
    "- **max_depth**: Controls the depth of the tree. More depth = more complexity, more variance, and slower computation speed. (Optimal values between 4-8)\n",
    "- **min_child_weight**: (default is 1)\n",
    "- **gamma**: it's a psuedo-regularization parameter (similar to learning_rate)\n",
    "\n",
    "**Import Parameters for Speed/Computation:**\n",
    "- **colsample_bytree**: subsample ratio of column (features) - Randomness; better generalizability\n",
    "- **subsample**: subsample ratio of training instances (observations) - Randomness; better generalizability\n",
    "- **n_estimators**: number of boosting trees"
   ]
  },
  {
   "cell_type": "markdown",
   "metadata": {},
   "source": [
    "## Learning Curve\n",
    "***\n",
    "A learning curve is used to evaluate your train and validation scores to check for signs of **overfitting**. This can also be used alongside **early stopping.**\n",
    "\n",
    "### Rule of Thumb:\n",
    "When tuning these other parameters, you may want to **first study the effects of each parameter** on the learning curves.\n",
    "\n",
    "By doing this you will, hopefully, **gain some insights** as to how the learning curve changes when tuning these parameters.  From there, we hope that you can then **formulate a grid search** or other strategies to find the optimal model parameters.  \n",
    "\n",
    "**Define eval_set**"
   ]
  },
  {
   "cell_type": "code",
   "execution_count": 220,
   "metadata": {},
   "outputs": [],
   "source": [
    "# Create empty array to store results\n",
    "results = []\n",
    "\n",
    "# Create watchlist to keep track of train/validation performance\n",
    "eval_set = [(X_train_2, y_train_2), (X_test_2, y_test_2)]"
   ]
  },
  {
   "cell_type": "markdown",
   "metadata": {},
   "source": [
    "### 5a. Examine Max_Depth Parameter\n",
    "\n",
    "Explain max_depth:"
   ]
  },
  {
   "cell_type": "code",
   "execution_count": 222,
   "metadata": {},
   "outputs": [
    {
     "name": "stderr",
     "output_type": "stream",
     "text": [
      "Exception ignored in: <function Booster.__del__ at 0x000001684698FF28>\n",
      "Traceback (most recent call last):\n",
      "  File \"C:\\Users\\Randy\\Anaconda3\\lib\\site-packages\\xgboost\\core.py\", line 892, in __del__\n",
      "    if self.handle is not None:\n",
      "AttributeError: 'Booster' object has no attribute 'handle'\n"
     ]
    },
    {
     "data": {
      "text/html": [
       "<div>\n",
       "<style scoped>\n",
       "    .dataframe tbody tr th:only-of-type {\n",
       "        vertical-align: middle;\n",
       "    }\n",
       "\n",
       "    .dataframe tbody tr th {\n",
       "        vertical-align: top;\n",
       "    }\n",
       "\n",
       "    .dataframe thead th {\n",
       "        text-align: right;\n",
       "    }\n",
       "</style>\n",
       "<table border=\"1\" class=\"dataframe\">\n",
       "  <thead>\n",
       "    <tr style=\"text-align: right;\">\n",
       "      <th></th>\n",
       "      <th>test_error</th>\n",
       "      <th>train_error</th>\n",
       "    </tr>\n",
       "    <tr>\n",
       "      <th>max_depth</th>\n",
       "      <th></th>\n",
       "      <th></th>\n",
       "    </tr>\n",
       "  </thead>\n",
       "  <tbody>\n",
       "    <tr>\n",
       "      <th>2</th>\n",
       "      <td>13.893604</td>\n",
       "      <td>3.819446</td>\n",
       "    </tr>\n",
       "    <tr>\n",
       "      <th>3</th>\n",
       "      <td>11.366636</td>\n",
       "      <td>1.911246</td>\n",
       "    </tr>\n",
       "    <tr>\n",
       "      <th>4</th>\n",
       "      <td>11.163836</td>\n",
       "      <td>0.747575</td>\n",
       "    </tr>\n",
       "    <tr>\n",
       "      <th>5</th>\n",
       "      <td>12.210627</td>\n",
       "      <td>0.350989</td>\n",
       "    </tr>\n",
       "    <tr>\n",
       "      <th>10</th>\n",
       "      <td>12.210437</td>\n",
       "      <td>0.003034</td>\n",
       "    </tr>\n",
       "    <tr>\n",
       "      <th>12</th>\n",
       "      <td>12.978997</td>\n",
       "      <td>0.000888</td>\n",
       "    </tr>\n",
       "    <tr>\n",
       "      <th>15</th>\n",
       "      <td>12.226893</td>\n",
       "      <td>0.000597</td>\n",
       "    </tr>\n",
       "  </tbody>\n",
       "</table>\n",
       "</div>"
      ],
      "text/plain": [
       "           test_error  train_error\n",
       "max_depth                         \n",
       "2           13.893604     3.819446\n",
       "3           11.366636     1.911246\n",
       "4           11.163836     0.747575\n",
       "5           12.210627     0.350989\n",
       "10          12.210437     0.003034\n",
       "12          12.978997     0.000888\n",
       "15          12.226893     0.000597"
      ]
     },
     "execution_count": 222,
     "metadata": {},
     "output_type": "execute_result"
    }
   ],
   "source": [
    "# Enumerate through different max_depth values and store results\n",
    "for max_depth in [2,3,4,5,10,12,15]:\n",
    "    clf = xgb.XGBRegressor(max_depth=max_depth)\n",
    "    clf.fit(X_train_2, y_train_2, eval_set=eval_set, verbose=False)\n",
    "    results.append(\n",
    "        {\n",
    "            'max_depth': max_depth,\n",
    "            'train_error': metrics.mean_squared_error(y_train_2, clf.predict(X_train_2)),\n",
    "            'test_error': metrics.mean_squared_error(y_test_2, clf.predict(X_test_2))\n",
    "        })\n",
    "    \n",
    "# Display Results\n",
    "max_depth_lr = pd.DataFrame(results).set_index('max_depth').sort_index()\n",
    "max_depth_lr"
   ]
  },
  {
   "cell_type": "markdown",
   "metadata": {},
   "source": [
    "**Plot Max_Depth Learning Curve**"
   ]
  },
  {
   "cell_type": "markdown",
   "metadata": {},
   "source": [
    "Looks like the best max_depth is 3"
   ]
  },
  {
   "cell_type": "code",
   "execution_count": 223,
   "metadata": {},
   "outputs": [
    {
     "data": {
      "text/plain": [
       "<matplotlib.axes._subplots.AxesSubplot at 0x1686a3d6e48>"
      ]
     },
     "execution_count": 223,
     "metadata": {},
     "output_type": "execute_result"
    },
    {
     "data": {
      "image/png": "[encoded data removed]",
      "text/plain": [
       "<Figure size 432x288 with 1 Axes>"
      ]
     },
     "metadata": {
      "needs_background": "light"
     },
     "output_type": "display_data"
    }
   ],
   "source": [
    "# Plot Max_Depth Learning Curve\n",
    "max_depth_lr.plot(title=\"Max_Depth Learning Curve\")"
   ]
  },
  {
   "cell_type": "markdown",
   "metadata": {},
   "source": [
    "### 5b. Examine Learning_Rate Parameter\n",
    "\n",
    "Explain Learning Rate:"
   ]
  },
  {
   "cell_type": "code",
   "execution_count": 224,
   "metadata": {
    "scrolled": true
   },
   "outputs": [
    {
     "data": {
      "text/html": [
       "<div>\n",
       "<style scoped>\n",
       "    .dataframe tbody tr th:only-of-type {\n",
       "        vertical-align: middle;\n",
       "    }\n",
       "\n",
       "    .dataframe tbody tr th {\n",
       "        vertical-align: top;\n",
       "    }\n",
       "\n",
       "    .dataframe thead th {\n",
       "        text-align: right;\n",
       "    }\n",
       "</style>\n",
       "<table border=\"1\" class=\"dataframe\">\n",
       "  <thead>\n",
       "    <tr style=\"text-align: right;\">\n",
       "      <th></th>\n",
       "      <th>test_error</th>\n",
       "      <th>train_error</th>\n",
       "    </tr>\n",
       "    <tr>\n",
       "      <th>learning_rate</th>\n",
       "      <th></th>\n",
       "      <th></th>\n",
       "    </tr>\n",
       "  </thead>\n",
       "  <tbody>\n",
       "    <tr>\n",
       "      <th>0.05</th>\n",
       "      <td>13.396981</td>\n",
       "      <td>3.941023</td>\n",
       "    </tr>\n",
       "    <tr>\n",
       "      <th>0.10</th>\n",
       "      <td>13.233431</td>\n",
       "      <td>2.400513</td>\n",
       "    </tr>\n",
       "    <tr>\n",
       "      <th>0.20</th>\n",
       "      <td>11.936768</td>\n",
       "      <td>1.157734</td>\n",
       "    </tr>\n",
       "    <tr>\n",
       "      <th>0.40</th>\n",
       "      <td>13.133068</td>\n",
       "      <td>0.342035</td>\n",
       "    </tr>\n",
       "    <tr>\n",
       "      <th>0.60</th>\n",
       "      <td>16.771368</td>\n",
       "      <td>0.115001</td>\n",
       "    </tr>\n",
       "    <tr>\n",
       "      <th>0.80</th>\n",
       "      <td>18.361069</td>\n",
       "      <td>0.069368</td>\n",
       "    </tr>\n",
       "    <tr>\n",
       "      <th>1.00</th>\n",
       "      <td>25.539554</td>\n",
       "      <td>0.041234</td>\n",
       "    </tr>\n",
       "  </tbody>\n",
       "</table>\n",
       "</div>"
      ],
      "text/plain": [
       "               test_error  train_error\n",
       "learning_rate                         \n",
       "0.05            13.396981     3.941023\n",
       "0.10            13.233431     2.400513\n",
       "0.20            11.936768     1.157734\n",
       "0.40            13.133068     0.342035\n",
       "0.60            16.771368     0.115001\n",
       "0.80            18.361069     0.069368\n",
       "1.00            25.539554     0.041234"
      ]
     },
     "execution_count": 224,
     "metadata": {},
     "output_type": "execute_result"
    }
   ],
   "source": [
    "# Reset results array\n",
    "results = []\n",
    "\n",
    "for learning_rate in [0.05,0.1,0.2,0.4,0.6,0.8,1]:\n",
    "    clf = xgb.XGBRegressor(max_depth=2,learning_rate=learning_rate, n_estimators=200)\n",
    "    clf.fit(X_train_2, y_train_2, eval_set=eval_set, verbose=False)\n",
    "    results.append(\n",
    "        {\n",
    "            'learning_rate': learning_rate,\n",
    "            'train_error': metrics.mean_squared_error(y_train_2, clf.predict(X_train_2)),\n",
    "            'test_error': metrics.mean_squared_error(y_test_2, clf.predict(X_test_2))\n",
    "        })\n",
    "    \n",
    "learning_rate_lr = pd.DataFrame(results).set_index('learning_rate').sort_index()\n",
    "learning_rate_lr"
   ]
  },
  {
   "cell_type": "markdown",
   "metadata": {},
   "source": [
    "**Plot Learning Rate Learning Curve**"
   ]
  },
  {
   "cell_type": "markdown",
   "metadata": {},
   "source": [
    "The best learning rate is 0.05"
   ]
  },
  {
   "cell_type": "code",
   "execution_count": 225,
   "metadata": {
    "scrolled": false
   },
   "outputs": [
    {
     "data": {
      "text/plain": [
       "<matplotlib.axes._subplots.AxesSubplot at 0x1681ac76e10>"
      ]
     },
     "execution_count": 225,
     "metadata": {},
     "output_type": "execute_result"
    },
    {
     "data": {
      "image/png": "[encoded data removed]",
      "text/plain": [
       "<Figure size 432x288 with 1 Axes>"
      ]
     },
     "metadata": {
      "needs_background": "light"
     },
     "output_type": "display_data"
    }
   ],
   "source": [
    "# Plot Learning Rate\n",
    "learning_rate_lr.plot(title=\"Learning Rate Learning Curve\")"
   ]
  },
  {
   "cell_type": "markdown",
   "metadata": {},
   "source": [
    "### 5c. Explain N_Estimators Parameter\n",
    "\n",
    "Explain n_estimators:\n",
    "Unlike Random Forest, you can specify as much n_estimators because you're just taking the average. So the more the better (more generalizability)\n",
    "\n",
    "For GBT, it's sequential. So you're prone to overfitting as you increase the amount of learning trees. Hence the graph."
   ]
  },
  {
   "cell_type": "code",
   "execution_count": 232,
   "metadata": {},
   "outputs": [
    {
     "data": {
      "text/html": [
       "<div>\n",
       "<style scoped>\n",
       "    .dataframe tbody tr th:only-of-type {\n",
       "        vertical-align: middle;\n",
       "    }\n",
       "\n",
       "    .dataframe tbody tr th {\n",
       "        vertical-align: top;\n",
       "    }\n",
       "\n",
       "    .dataframe thead th {\n",
       "        text-align: right;\n",
       "    }\n",
       "</style>\n",
       "<table border=\"1\" class=\"dataframe\">\n",
       "  <thead>\n",
       "    <tr style=\"text-align: right;\">\n",
       "      <th></th>\n",
       "      <th>test_error</th>\n",
       "      <th>train_error</th>\n",
       "    </tr>\n",
       "    <tr>\n",
       "      <th>n_estimators</th>\n",
       "      <th></th>\n",
       "      <th></th>\n",
       "    </tr>\n",
       "  </thead>\n",
       "  <tbody>\n",
       "    <tr>\n",
       "      <th>50</th>\n",
       "      <td>16.173677</td>\n",
       "      <td>6.237241</td>\n",
       "    </tr>\n",
       "    <tr>\n",
       "      <th>60</th>\n",
       "      <td>15.133341</td>\n",
       "      <td>5.447760</td>\n",
       "    </tr>\n",
       "    <tr>\n",
       "      <th>100</th>\n",
       "      <td>13.893604</td>\n",
       "      <td>3.819446</td>\n",
       "    </tr>\n",
       "    <tr>\n",
       "      <th>150</th>\n",
       "      <td>13.475612</td>\n",
       "      <td>2.994603</td>\n",
       "    </tr>\n",
       "    <tr>\n",
       "      <th>200</th>\n",
       "      <td>13.233431</td>\n",
       "      <td>2.400513</td>\n",
       "    </tr>\n",
       "    <tr>\n",
       "      <th>500</th>\n",
       "      <td>12.860073</td>\n",
       "      <td>0.832688</td>\n",
       "    </tr>\n",
       "    <tr>\n",
       "      <th>750</th>\n",
       "      <td>13.095709</td>\n",
       "      <td>0.412516</td>\n",
       "    </tr>\n",
       "    <tr>\n",
       "      <th>1000</th>\n",
       "      <td>13.282228</td>\n",
       "      <td>0.223503</td>\n",
       "    </tr>\n",
       "    <tr>\n",
       "      <th>1500</th>\n",
       "      <td>13.411032</td>\n",
       "      <td>0.074901</td>\n",
       "    </tr>\n",
       "  </tbody>\n",
       "</table>\n",
       "</div>"
      ],
      "text/plain": [
       "              test_error  train_error\n",
       "n_estimators                         \n",
       "50             16.173677     6.237241\n",
       "60             15.133341     5.447760\n",
       "100            13.893604     3.819446\n",
       "150            13.475612     2.994603\n",
       "200            13.233431     2.400513\n",
       "500            12.860073     0.832688\n",
       "750            13.095709     0.412516\n",
       "1000           13.282228     0.223503\n",
       "1500           13.411032     0.074901"
      ]
     },
     "execution_count": 232,
     "metadata": {},
     "output_type": "execute_result"
    }
   ],
   "source": [
    "# Reset results array\n",
    "results = []\n",
    "\n",
    "for n_estimators in [50,60,100,150,200,500,750,1000, 1500]:\n",
    "    clf = xgb.XGBRegressor(max_depth=2,learning_rate=0.10, n_estimators=n_estimators)\n",
    "    clf.fit(X_train_2, y_train_2, eval_set=eval_set, verbose=False)\n",
    "    results.append(\n",
    "        {\n",
    "            'n_estimators': n_estimators,\n",
    "            'train_error': metrics.mean_squared_error(y_train_2, clf.predict(X_train_2)),\n",
    "            'test_error': metrics.mean_squared_error(y_test_2, clf.predict(X_test_2))\n",
    "        })\n",
    "    \n",
    "n_estimators_lr = pd.DataFrame(results).set_index('n_estimators').sort_index()\n",
    "n_estimators_lr"
   ]
  },
  {
   "cell_type": "markdown",
   "metadata": {},
   "source": [
    "**Plot N_Estimators Learning Curve**"
   ]
  },
  {
   "cell_type": "markdown",
   "metadata": {},
   "source": [
    "Best N_Estimators is 50"
   ]
  },
  {
   "cell_type": "code",
   "execution_count": 233,
   "metadata": {},
   "outputs": [
    {
     "data": {
      "text/plain": [
       "<matplotlib.axes._subplots.AxesSubplot at 0x168384fdf98>"
      ]
     },
     "execution_count": 233,
     "metadata": {},
     "output_type": "execute_result"
    },
    {
     "data": {
      "image/png": "[encoded data removed]",
      "text/plain": [
       "<Figure size 432x288 with 1 Axes>"
      ]
     },
     "metadata": {
      "needs_background": "light"
     },
     "output_type": "display_data"
    }
   ],
   "source": [
    "n_estimators_lr.plot(title=\"N_Estimators Learning Curve\")"
   ]
  },
  {
   "cell_type": "markdown",
   "metadata": {},
   "source": [
    "## 6. Perform GridSearchCV\n",
    "\n",
    "1. Use Grid Search to find optimal parameters\n",
    "2. After getting the optimal parameters, you can plot learning curve to see what is the best early_stopping (n rounds)"
   ]
  },
  {
   "cell_type": "markdown",
   "metadata": {},
   "source": [
    "**GridSearch:** In grid-search, we start by defining a dictionary of possible parameter values we want to test. All combinations will be evaluated."
   ]
  },
  {
   "cell_type": "code",
   "execution_count": 253,
   "metadata": {},
   "outputs": [],
   "source": [
    "model = xgb.XGBRegressor()"
   ]
  },
  {
   "cell_type": "code",
   "execution_count": 255,
   "metadata": {},
   "outputs": [],
   "source": [
    "# Define Parameters\n",
    "param_grid = {\"max_depth\": [2,3,10],\n",
    "              \"max_features\" : [1.0,0.3,0.1],\n",
    "              \"min_samples_leaf\" : [3,5,9,17],\n",
    "              \"n_estimators\": [100,500,1000],\n",
    "              \"learning_rate\": [0.05,0.1,0.02,0.2]}"
   ]
  },
  {
   "cell_type": "code",
   "execution_count": 256,
   "metadata": {
    "scrolled": true
   },
   "outputs": [
    {
     "name": "stdout",
     "output_type": "stream",
     "text": [
      "Fitting 3 folds for each of 432 candidates, totalling 1296 fits\n"
     ]
    },
    {
     "name": "stderr",
     "output_type": "stream",
     "text": [
      "[Parallel(n_jobs=-1)]: Done   5 tasks      | elapsed:    4.9s\n",
      "[Parallel(n_jobs=-1)]: Done  10 tasks      | elapsed:    5.3s\n",
      "[Parallel(n_jobs=-1)]: Done  17 tasks      | elapsed:    6.2s\n",
      "[Parallel(n_jobs=-1)]: Done  24 tasks      | elapsed:    6.9s\n",
      "[Parallel(n_jobs=-1)]: Done  33 tasks      | elapsed:    7.9s\n",
      "[Parallel(n_jobs=-1)]: Done  42 tasks      | elapsed:    8.7s\n",
      "[Parallel(n_jobs=-1)]: Done  53 tasks      | elapsed:    9.9s\n",
      "[Parallel(n_jobs=-1)]: Done  64 tasks      | elapsed:   11.2s\n",
      "[Parallel(n_jobs=-1)]: Done  77 tasks      | elapsed:   12.6s\n",
      "[Parallel(n_jobs=-1)]: Done  90 tasks      | elapsed:   14.0s\n",
      "[Parallel(n_jobs=-1)]: Done 105 tasks      | elapsed:   15.6s\n",
      "[Parallel(n_jobs=-1)]: Done 120 tasks      | elapsed:   17.7s\n",
      "[Parallel(n_jobs=-1)]: Done 137 tasks      | elapsed:   20.4s\n",
      "[Parallel(n_jobs=-1)]: Done 154 tasks      | elapsed:   22.9s\n",
      "[Parallel(n_jobs=-1)]: Done 173 tasks      | elapsed:   25.7s\n",
      "[Parallel(n_jobs=-1)]: Done 192 tasks      | elapsed:   28.5s\n",
      "[Parallel(n_jobs=-1)]: Done 213 tasks      | elapsed:   31.6s\n",
      "[Parallel(n_jobs=-1)]: Done 234 tasks      | elapsed:   36.8s\n",
      "[Parallel(n_jobs=-1)]: Done 257 tasks      | elapsed:   42.7s\n",
      "[Parallel(n_jobs=-1)]: Done 280 tasks      | elapsed:   48.2s\n",
      "[Parallel(n_jobs=-1)]: Done 305 tasks      | elapsed:   55.0s\n",
      "[Parallel(n_jobs=-1)]: Done 330 tasks      | elapsed:  1.0min\n",
      "[Parallel(n_jobs=-1)]: Done 357 tasks      | elapsed:  1.1min\n",
      "[Parallel(n_jobs=-1)]: Done 384 tasks      | elapsed:  1.1min\n",
      "[Parallel(n_jobs=-1)]: Done 413 tasks      | elapsed:  1.2min\n",
      "[Parallel(n_jobs=-1)]: Done 442 tasks      | elapsed:  1.2min\n",
      "[Parallel(n_jobs=-1)]: Done 473 tasks      | elapsed:  1.3min\n",
      "[Parallel(n_jobs=-1)]: Done 504 tasks      | elapsed:  1.4min\n",
      "[Parallel(n_jobs=-1)]: Done 537 tasks      | elapsed:  1.5min\n",
      "[Parallel(n_jobs=-1)]: Done 570 tasks      | elapsed:  1.6min\n",
      "[Parallel(n_jobs=-1)]: Done 605 tasks      | elapsed:  1.7min\n",
      "[Parallel(n_jobs=-1)]: Done 640 tasks      | elapsed:  1.8min\n",
      "[Parallel(n_jobs=-1)]: Done 677 tasks      | elapsed:  1.8min\n",
      "[Parallel(n_jobs=-1)]: Done 714 tasks      | elapsed:  1.9min\n",
      "[Parallel(n_jobs=-1)]: Done 753 tasks      | elapsed:  2.0min\n",
      "[Parallel(n_jobs=-1)]: Done 792 tasks      | elapsed:  2.1min\n",
      "[Parallel(n_jobs=-1)]: Done 833 tasks      | elapsed:  2.2min\n",
      "[Parallel(n_jobs=-1)]: Done 874 tasks      | elapsed:  2.3min\n",
      "[Parallel(n_jobs=-1)]: Done 917 tasks      | elapsed:  2.6min\n",
      "[Parallel(n_jobs=-1)]: Done 960 tasks      | elapsed:  2.8min\n",
      "[Parallel(n_jobs=-1)]: Done 1005 tasks      | elapsed:  3.0min\n",
      "[Parallel(n_jobs=-1)]: Done 1050 tasks      | elapsed:  3.0min\n",
      "[Parallel(n_jobs=-1)]: Done 1097 tasks      | elapsed:  3.1min\n",
      "[Parallel(n_jobs=-1)]: Done 1144 tasks      | elapsed:  3.2min\n",
      "[Parallel(n_jobs=-1)]: Done 1193 tasks      | elapsed:  3.3min\n",
      "[Parallel(n_jobs=-1)]: Done 1242 tasks      | elapsed:  3.4min\n",
      "[Parallel(n_jobs=-1)]: Done 1296 out of 1296 | elapsed:  3.6min finished\n"
     ]
    }
   ],
   "source": [
    "# Perform Grid Search CV\n",
    "gs_cv = GridSearchCV(model, param_grid=param_grid, cv = 3, verbose=10, n_jobs=-1 ).fit(X_train_2, y_train_2)"
   ]
  },
  {
   "cell_type": "code",
   "execution_count": 252,
   "metadata": {},
   "outputs": [
    {
     "data": {
      "text/plain": [
       "XGBRegressor(base_score=0.5, booster='gbtree', colsample_bylevel=1,\n",
       "       colsample_bytree=1, gamma=0, learning_rate=0.1, max_delta_step=0,\n",
       "       max_depth=3, max_features=1.0, min_child_weight=1,\n",
       "       min_samples_leaf=3, missing=None, n_estimators=1000, n_jobs=1,\n",
       "       nthread=None, objective='reg:linear', random_state=0, reg_alpha=0,\n",
       "       reg_lambda=1, scale_pos_weight=1, seed=None, silent=True,\n",
       "       subsample=1)"
      ]
     },
     "execution_count": 252,
     "metadata": {},
     "output_type": "execute_result"
    }
   ],
   "source": [
    "# Best hyperparmeter setting\n",
    "gs_cv.best_estimator_"
   ]
  },
  {
   "cell_type": "markdown",
   "metadata": {},
   "source": [
    "## 7. Plot Learning Curve\n",
    "\n",
    "Let's use our best model parameters **above** from our GridSearchCV and plot our learning curve."
   ]
  },
  {
   "cell_type": "markdown",
   "metadata": {},
   "source": [
    "**Perform 1000 tree boosting rounds**"
   ]
  },
  {
   "cell_type": "code",
   "execution_count": 258,
   "metadata": {},
   "outputs": [],
   "source": [
    "# Use our best model parameters found by GridSearchCV\n",
    "best_model = xgb.XGBRegressor(base_score=0.5, booster='gbtree', colsample_bylevel=1,\n",
    "       colsample_bytree=1, gamma=0, learning_rate=0.1, max_delta_step=0,\n",
    "       max_depth=3, max_features=1.0, min_child_weight=1,\n",
    "       min_samples_leaf=3, missing=None, n_estimators=1000, n_jobs=1,\n",
    "       nthread=None, objective='reg:linear', random_state=0, reg_alpha=0,\n",
    "       reg_lambda=1, scale_pos_weight=1, seed=None, silent=True,\n",
    "       subsample=1)"
   ]
  },
  {
   "cell_type": "code",
   "execution_count": 259,
   "metadata": {},
   "outputs": [
    {
     "data": {
      "text/plain": [
       "Text(0.5,1,'XGBoost RMSE')"
      ]
     },
     "execution_count": 259,
     "metadata": {},
     "output_type": "execute_result"
    },
    {
     "data": {
      "image/png": "[encoded data removed]",
      "text/plain": [
       "<Figure size 432x288 with 1 Axes>"
      ]
     },
     "metadata": {
      "needs_background": "light"
     },
     "output_type": "display_data"
    }
   ],
   "source": [
    "# Create eval_set\n",
    "eval_set = [(X_train_2, y_train_2), (X_test_2, y_test_2)]\n",
    "\n",
    "# Fit our model to the training set\n",
    "best_model.fit(X_train_2, y_train_2, eval_set=eval_set, verbose=False)\n",
    "\n",
    "# Make predictions with test data\n",
    "y_pred = best_model.predict(X_test_2)\n",
    "predictions = [round(value) for value in y_pred]\n",
    "\n",
    "# Retrieve performance metrics\n",
    "results = best_model.evals_result()\n",
    "epochs = len(results['validation_0']['rmse'])\n",
    "x_axis = range(0, epochs)\n",
    "\n",
    "# Plot log loss curve\n",
    "fig, ax = plt.subplots()\n",
    "ax.plot(x_axis, results['validation_0']['rmse'], label='Train')\n",
    "ax.plot(x_axis, results['validation_1']['rmse'], label='Test')\n",
    "ax.legend()\n",
    "plt.ylabel('RMSE')\n",
    "plt.title('XGBoost RMSE')"
   ]
  },
  {
   "cell_type": "markdown",
   "metadata": {},
   "source": [
    "## 8. Early Stopping\n",
    "\n",
    "**Here's the solution**:\n",
    "\n",
    "Looks like our model starts to overfit after about 100 rounds.\n",
    "\n",
    "Add in **'early_stopping_rounds'** as a parameter and it will allow you to find the sweet spot before your model starts to overfit"
   ]
  },
  {
   "cell_type": "markdown",
   "metadata": {},
   "source": [
    "**Performing Early Stopping**: \n",
    "- We found that **n_estimators=61** was the best parameter where we should stop training at.\n",
    "- Early Stopping is used because it allows you to see at what point does your model start overfitting\n",
    "- It saves you lots of time and processing power"
   ]
  },
  {
   "cell_type": "code",
   "execution_count": 260,
   "metadata": {
    "scrolled": true
   },
   "outputs": [
    {
     "name": "stdout",
     "output_type": "stream",
     "text": [
      "[0]\tvalidation_0-rmse:20.9923\tvalidation_1-rmse:23.5317\n",
      "Multiple eval metrics have been passed: 'validation_1-rmse' will be used for early stopping.\n",
      "\n",
      "Will train until validation_1-rmse hasn't improved in 10 rounds.\n",
      "[1]\tvalidation_0-rmse:19.0232\tvalidation_1-rmse:21.3639\n",
      "[2]\tvalidation_0-rmse:17.2442\tvalidation_1-rmse:19.4812\n",
      "[3]\tvalidation_0-rmse:15.648\tvalidation_1-rmse:17.7426\n",
      "[4]\tvalidation_0-rmse:14.2121\tvalidation_1-rmse:16.1747\n",
      "[5]\tvalidation_0-rmse:12.9134\tvalidation_1-rmse:14.7968\n",
      "[6]\tvalidation_0-rmse:11.7527\tvalidation_1-rmse:13.5669\n",
      "[7]\tvalidation_0-rmse:10.701\tvalidation_1-rmse:12.4708\n",
      "[8]\tvalidation_0-rmse:9.75232\tvalidation_1-rmse:11.4475\n",
      "[9]\tvalidation_0-rmse:8.89436\tvalidation_1-rmse:10.5483\n",
      "[10]\tvalidation_0-rmse:8.13114\tvalidation_1-rmse:9.74896\n",
      "[11]\tvalidation_0-rmse:7.45103\tvalidation_1-rmse:9.01264\n",
      "[12]\tvalidation_0-rmse:6.83713\tvalidation_1-rmse:8.39079\n",
      "[13]\tvalidation_0-rmse:6.28409\tvalidation_1-rmse:7.85062\n",
      "[14]\tvalidation_0-rmse:5.8005\tvalidation_1-rmse:7.34988\n",
      "[15]\tvalidation_0-rmse:5.35915\tvalidation_1-rmse:6.91722\n",
      "[16]\tvalidation_0-rmse:4.96134\tvalidation_1-rmse:6.50511\n",
      "[17]\tvalidation_0-rmse:4.61855\tvalidation_1-rmse:6.14954\n",
      "[18]\tvalidation_0-rmse:4.30291\tvalidation_1-rmse:5.83223\n",
      "[19]\tvalidation_0-rmse:4.03791\tvalidation_1-rmse:5.58752\n",
      "[20]\tvalidation_0-rmse:3.79119\tvalidation_1-rmse:5.33904\n",
      "[21]\tvalidation_0-rmse:3.57962\tvalidation_1-rmse:5.11744\n",
      "[22]\tvalidation_0-rmse:3.38428\tvalidation_1-rmse:4.93411\n",
      "[23]\tvalidation_0-rmse:3.21817\tvalidation_1-rmse:4.77351\n",
      "[24]\tvalidation_0-rmse:3.07071\tvalidation_1-rmse:4.64288\n",
      "[25]\tvalidation_0-rmse:2.94496\tvalidation_1-rmse:4.52932\n",
      "[26]\tvalidation_0-rmse:2.82716\tvalidation_1-rmse:4.41708\n",
      "[27]\tvalidation_0-rmse:2.72698\tvalidation_1-rmse:4.31815\n",
      "[28]\tvalidation_0-rmse:2.63218\tvalidation_1-rmse:4.24099\n",
      "[29]\tvalidation_0-rmse:2.54998\tvalidation_1-rmse:4.1659\n",
      "[30]\tvalidation_0-rmse:2.47946\tvalidation_1-rmse:4.09992\n",
      "[31]\tvalidation_0-rmse:2.42198\tvalidation_1-rmse:4.0617\n",
      "[32]\tvalidation_0-rmse:2.36543\tvalidation_1-rmse:4.02337\n",
      "[33]\tvalidation_0-rmse:2.31679\tvalidation_1-rmse:3.98211\n",
      "[34]\tvalidation_0-rmse:2.27303\tvalidation_1-rmse:3.95092\n",
      "[35]\tvalidation_0-rmse:2.23538\tvalidation_1-rmse:3.91856\n",
      "[36]\tvalidation_0-rmse:2.19869\tvalidation_1-rmse:3.87496\n",
      "[37]\tvalidation_0-rmse:2.14938\tvalidation_1-rmse:3.83081\n",
      "[38]\tvalidation_0-rmse:2.11409\tvalidation_1-rmse:3.79907\n",
      "[39]\tvalidation_0-rmse:2.08981\tvalidation_1-rmse:3.78142\n",
      "[40]\tvalidation_0-rmse:2.06306\tvalidation_1-rmse:3.75562\n",
      "[41]\tvalidation_0-rmse:2.03159\tvalidation_1-rmse:3.73928\n",
      "[42]\tvalidation_0-rmse:2.00781\tvalidation_1-rmse:3.7185\n",
      "[43]\tvalidation_0-rmse:1.98066\tvalidation_1-rmse:3.69814\n",
      "[44]\tvalidation_0-rmse:1.96314\tvalidation_1-rmse:3.68249\n",
      "[45]\tvalidation_0-rmse:1.94714\tvalidation_1-rmse:3.66919\n",
      "[46]\tvalidation_0-rmse:1.91613\tvalidation_1-rmse:3.64656\n",
      "[47]\tvalidation_0-rmse:1.89532\tvalidation_1-rmse:3.63846\n",
      "[48]\tvalidation_0-rmse:1.88238\tvalidation_1-rmse:3.6335\n",
      "[49]\tvalidation_0-rmse:1.86398\tvalidation_1-rmse:3.62064\n",
      "[50]\tvalidation_0-rmse:1.84711\tvalidation_1-rmse:3.61442\n",
      "[51]\tvalidation_0-rmse:1.83259\tvalidation_1-rmse:3.60903\n",
      "[52]\tvalidation_0-rmse:1.8116\tvalidation_1-rmse:3.59957\n",
      "[53]\tvalidation_0-rmse:1.80041\tvalidation_1-rmse:3.59503\n",
      "[54]\tvalidation_0-rmse:1.79085\tvalidation_1-rmse:3.58305\n",
      "[55]\tvalidation_0-rmse:1.78097\tvalidation_1-rmse:3.575\n",
      "[56]\tvalidation_0-rmse:1.75938\tvalidation_1-rmse:3.56412\n",
      "[57]\tvalidation_0-rmse:1.75031\tvalidation_1-rmse:3.55438\n",
      "[58]\tvalidation_0-rmse:1.73262\tvalidation_1-rmse:3.53101\n",
      "[59]\tvalidation_0-rmse:1.71888\tvalidation_1-rmse:3.52855\n",
      "[60]\tvalidation_0-rmse:1.71077\tvalidation_1-rmse:3.51886\n",
      "[61]\tvalidation_0-rmse:1.69645\tvalidation_1-rmse:3.51288\n",
      "[62]\tvalidation_0-rmse:1.6874\tvalidation_1-rmse:3.51\n",
      "[63]\tvalidation_0-rmse:1.67675\tvalidation_1-rmse:3.50441\n",
      "[64]\tvalidation_0-rmse:1.66944\tvalidation_1-rmse:3.5\n",
      "[65]\tvalidation_0-rmse:1.65182\tvalidation_1-rmse:3.49104\n",
      "[66]\tvalidation_0-rmse:1.64018\tvalidation_1-rmse:3.49173\n",
      "[67]\tvalidation_0-rmse:1.62891\tvalidation_1-rmse:3.48687\n",
      "[68]\tvalidation_0-rmse:1.62211\tvalidation_1-rmse:3.48163\n",
      "[69]\tvalidation_0-rmse:1.61577\tvalidation_1-rmse:3.48026\n",
      "[70]\tvalidation_0-rmse:1.60566\tvalidation_1-rmse:3.48139\n",
      "[71]\tvalidation_0-rmse:1.59354\tvalidation_1-rmse:3.46547\n",
      "[72]\tvalidation_0-rmse:1.58787\tvalidation_1-rmse:3.46149\n",
      "[73]\tvalidation_0-rmse:1.57858\tvalidation_1-rmse:3.45302\n",
      "[74]\tvalidation_0-rmse:1.56936\tvalidation_1-rmse:3.4517\n",
      "[75]\tvalidation_0-rmse:1.56048\tvalidation_1-rmse:3.45409\n",
      "[76]\tvalidation_0-rmse:1.555\tvalidation_1-rmse:3.45065\n",
      "[77]\tvalidation_0-rmse:1.54126\tvalidation_1-rmse:3.44722\n",
      "[78]\tvalidation_0-rmse:1.53256\tvalidation_1-rmse:3.44527\n",
      "[79]\tvalidation_0-rmse:1.52455\tvalidation_1-rmse:3.44694\n",
      "[80]\tvalidation_0-rmse:1.51732\tvalidation_1-rmse:3.44296\n",
      "[81]\tvalidation_0-rmse:1.5057\tvalidation_1-rmse:3.44072\n",
      "[82]\tvalidation_0-rmse:1.49725\tvalidation_1-rmse:3.43636\n",
      "[83]\tvalidation_0-rmse:1.48558\tvalidation_1-rmse:3.42367\n",
      "[84]\tvalidation_0-rmse:1.48065\tvalidation_1-rmse:3.42441\n",
      "[85]\tvalidation_0-rmse:1.47658\tvalidation_1-rmse:3.41957\n",
      "[86]\tvalidation_0-rmse:1.46949\tvalidation_1-rmse:3.41729\n",
      "[87]\tvalidation_0-rmse:1.46072\tvalidation_1-rmse:3.40819\n",
      "[88]\tvalidation_0-rmse:1.45218\tvalidation_1-rmse:3.39724\n",
      "[89]\tvalidation_0-rmse:1.44341\tvalidation_1-rmse:3.39155\n",
      "[90]\tvalidation_0-rmse:1.4361\tvalidation_1-rmse:3.39484\n",
      "[91]\tvalidation_0-rmse:1.43214\tvalidation_1-rmse:3.39119\n",
      "[92]\tvalidation_0-rmse:1.42514\tvalidation_1-rmse:3.38494\n",
      "[93]\tvalidation_0-rmse:1.41902\tvalidation_1-rmse:3.38611\n",
      "[94]\tvalidation_0-rmse:1.40547\tvalidation_1-rmse:3.38433\n",
      "[95]\tvalidation_0-rmse:1.39983\tvalidation_1-rmse:3.37906\n",
      "[96]\tvalidation_0-rmse:1.39721\tvalidation_1-rmse:3.37541\n",
      "[97]\tvalidation_0-rmse:1.3931\tvalidation_1-rmse:3.37279\n",
      "[98]\tvalidation_0-rmse:1.38758\tvalidation_1-rmse:3.37501\n",
      "[99]\tvalidation_0-rmse:1.38248\tvalidation_1-rmse:3.37144\n",
      "[100]\tvalidation_0-rmse:1.36873\tvalidation_1-rmse:3.37552\n",
      "[101]\tvalidation_0-rmse:1.36289\tvalidation_1-rmse:3.37363\n",
      "[102]\tvalidation_0-rmse:1.35538\tvalidation_1-rmse:3.37267\n",
      "[103]\tvalidation_0-rmse:1.35054\tvalidation_1-rmse:3.37435\n",
      "[104]\tvalidation_0-rmse:1.3398\tvalidation_1-rmse:3.37255\n",
      "[105]\tvalidation_0-rmse:1.33497\tvalidation_1-rmse:3.3678\n",
      "[106]\tvalidation_0-rmse:1.32621\tvalidation_1-rmse:3.35814\n",
      "[107]\tvalidation_0-rmse:1.3203\tvalidation_1-rmse:3.35662\n",
      "[108]\tvalidation_0-rmse:1.30932\tvalidation_1-rmse:3.35966\n",
      "[109]\tvalidation_0-rmse:1.30476\tvalidation_1-rmse:3.35888\n",
      "[110]\tvalidation_0-rmse:1.30125\tvalidation_1-rmse:3.35548\n",
      "[111]\tvalidation_0-rmse:1.29662\tvalidation_1-rmse:3.35807\n",
      "[112]\tvalidation_0-rmse:1.28928\tvalidation_1-rmse:3.35979\n",
      "[113]\tvalidation_0-rmse:1.28001\tvalidation_1-rmse:3.35936\n",
      "[114]\tvalidation_0-rmse:1.27133\tvalidation_1-rmse:3.35767\n",
      "[115]\tvalidation_0-rmse:1.25866\tvalidation_1-rmse:3.35095\n",
      "[116]\tvalidation_0-rmse:1.25645\tvalidation_1-rmse:3.34943\n",
      "[117]\tvalidation_0-rmse:1.24487\tvalidation_1-rmse:3.34645\n",
      "[118]\tvalidation_0-rmse:1.23723\tvalidation_1-rmse:3.34997\n",
      "[119]\tvalidation_0-rmse:1.23372\tvalidation_1-rmse:3.348\n",
      "[120]\tvalidation_0-rmse:1.22734\tvalidation_1-rmse:3.34516\n",
      "[121]\tvalidation_0-rmse:1.22539\tvalidation_1-rmse:3.34332\n",
      "[122]\tvalidation_0-rmse:1.22136\tvalidation_1-rmse:3.34162\n",
      "[123]\tvalidation_0-rmse:1.21789\tvalidation_1-rmse:3.33904\n",
      "[124]\tvalidation_0-rmse:1.21474\tvalidation_1-rmse:3.33996\n",
      "[125]\tvalidation_0-rmse:1.20965\tvalidation_1-rmse:3.34166\n",
      "[126]\tvalidation_0-rmse:1.19966\tvalidation_1-rmse:3.3363\n",
      "[127]\tvalidation_0-rmse:1.189\tvalidation_1-rmse:3.33799\n",
      "[128]\tvalidation_0-rmse:1.18636\tvalidation_1-rmse:3.33944\n",
      "[129]\tvalidation_0-rmse:1.18255\tvalidation_1-rmse:3.3409\n",
      "[130]\tvalidation_0-rmse:1.17266\tvalidation_1-rmse:3.34207\n",
      "[131]\tvalidation_0-rmse:1.16907\tvalidation_1-rmse:3.33973\n",
      "[132]\tvalidation_0-rmse:1.15963\tvalidation_1-rmse:3.34377\n",
      "[133]\tvalidation_0-rmse:1.15581\tvalidation_1-rmse:3.34582\n",
      "[134]\tvalidation_0-rmse:1.15081\tvalidation_1-rmse:3.3446\n",
      "[135]\tvalidation_0-rmse:1.14742\tvalidation_1-rmse:3.34037\n",
      "[136]\tvalidation_0-rmse:1.14399\tvalidation_1-rmse:3.34104\n",
      "Stopping. Best iteration:\n",
      "[126]\tvalidation_0-rmse:1.19966\tvalidation_1-rmse:3.3363\n",
      "\n"
     ]
    },
    {
     "data": {
      "text/plain": [
       "XGBRegressor(base_score=0.5, booster='gbtree', colsample_bylevel=1,\n",
       "       colsample_bytree=1, gamma=0, learning_rate=0.1, max_delta_step=0,\n",
       "       max_depth=3, max_features=1.0, min_child_weight=1,\n",
       "       min_samples_leaf=3, missing=None, n_estimators=1000, n_jobs=1,\n",
       "       nthread=None, objective='reg:linear', random_state=0, reg_alpha=0,\n",
       "       reg_lambda=1, scale_pos_weight=1, seed=None, silent=True,\n",
       "       subsample=1)"
      ]
     },
     "execution_count": 260,
     "metadata": {},
     "output_type": "execute_result"
    }
   ],
   "source": [
    "# Fit the training set and apply early stopping \n",
    "best_model.fit(X_train_2, y_train_2, early_stopping_rounds=10, eval_set=eval_set, verbose=True)"
   ]
  },
  {
   "cell_type": "markdown",
   "metadata": {},
   "source": [
    "## 9. Feature Importance"
   ]
  },
  {
   "cell_type": "code",
   "execution_count": 261,
   "metadata": {},
   "outputs": [
    {
     "data": {
      "image/png": "[encoded data removed]",
      "text/plain": [
       "<Figure size 864x864 with 1 Axes>"
      ]
     },
     "metadata": {
      "needs_background": "light"
     },
     "output_type": "display_data"
    }
   ],
   "source": [
    "# Plot basic feature importance chart\n",
    "fig, ax = plt.subplots(figsize=(12,12))\n",
    "xgb.plot_importance(best_model, height=0.5, ax=ax)\n",
    "plt.show()"
   ]
  },
  {
   "cell_type": "code",
   "execution_count": null,
   "metadata": {},
   "outputs": [],
   "source": []
  },
  {
   "cell_type": "markdown",
   "metadata": {},
   "source": [
    "## Questions\n",
    "***\n",
    "1. What should we do if the error on train is higher as compared to error on test.\n",
    "2. Apart for ealry stopping how can we tune regularization parameters effectively?\n",
    "3. If your Gradient boosting ensemble overfits the training set, should you increase or decrease the learning rate?\n",
    "4. What are some hyperparameters of gradient boosting that controls complexity of the model?\n",
    "5. The good thing about Gradient Boosting is that it can be applied to any loss function. (T/F)\n",
    "6. What technique can you use to find out when your Gradient Boosting model is overfitting the training data?\n"
   ]
  },
  {
   "cell_type": "code",
   "execution_count": null,
   "metadata": {},
   "outputs": [],
   "source": []
  }
 ],
 "metadata": {
  "kernelspec": {
   "display_name": "Python 3",
   "language": "python",
   "name": "python3"
  },
  "language_info": {
   "codemirror_mode": {
    "name": "ipython",
    "version": 3
   },
   "file_extension": ".py",
   "mimetype": "text/x-python",
   "name": "python",
   "nbconvert_exporter": "python",
   "pygments_lexer": "ipython3",
   "version": "3.7.0"
  }
 },
 "nbformat": 4,
 "nbformat_minor": 2
}
